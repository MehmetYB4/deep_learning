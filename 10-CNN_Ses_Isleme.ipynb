{
 "cells": [
  {
   "cell_type": "markdown",
   "id": "c6604fe1",
   "metadata": {},
   "source": [
    "Revize edilecektir"
   ]
  },
  {
   "cell_type": "code",
   "execution_count": 5,
   "id": "4200f9eb-1bdd-43b3-abe6-15bc60a00468",
   "metadata": {},
   "outputs": [],
   "source": [
    "dataset_link=\"https://goo.gl/8hY5ER\"\n",
    "link=\"https://urbansounddataset.weebly.com/download-urbansound8k.html\""
   ]
  },
  {
   "cell_type": "code",
   "execution_count": null,
   "id": "1cc91236-df6e-429f-9210-4dc72f384df1",
   "metadata": {},
   "outputs": [],
   "source": []
  }
 ],
 "metadata": {
  "kernelspec": {
   "display_name": "Python 3 (ipykernel)",
   "language": "python",
   "name": "python3"
  },
  "language_info": {
   "codemirror_mode": {
    "name": "ipython",
    "version": 3
   },
   "file_extension": ".py",
   "mimetype": "text/x-python",
   "name": "python",
   "nbconvert_exporter": "python",
   "pygments_lexer": "ipython3",
   "version": "3.12.4"
  }
 },
 "nbformat": 4,
 "nbformat_minor": 5
}
