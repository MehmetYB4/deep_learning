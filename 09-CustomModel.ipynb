{
 "cells": [
  {
   "cell_type": "markdown",
   "id": "0465c73c",
   "metadata": {},
   "source": [
    "Revize edilecektir"
   ]
  },
  {
   "cell_type": "code",
   "execution_count": null,
   "id": "50b924ba",
   "metadata": {
    "vscode": {
     "languageId": "plaintext"
    }
   },
   "outputs": [],
   "source": []
  }
 ],
 "metadata": {
  "language_info": {
   "name": "python"
  }
 },
 "nbformat": 4,
 "nbformat_minor": 5
}
