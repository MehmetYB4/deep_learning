{
 "cells": [
  {
   "cell_type": "markdown",
   "id": "e47b2958-2704-4999-9115-2186fc745bec",
   "metadata": {},
   "source": [
    "# CNN (Convolutional Neural Network - Evrişimli Sinir Ağı)\n",
    "\n",
    "CNN, özellikle görsel veri işleme için tasarlanmış bir tür derin öğrenme modelidir. Görüntü tanıma, sınıflandırma ve segmentasyon gibi görevlerde yaygın olarak kullanılır ve karmaşık görsel verilerden özellikleri otomatik olarak öğrenir.\n",
    "\n",
    "## Evrişim Katmanları (Convolutional Layers)\n",
    "\n",
    "- **Çekirdek Boyutu (Kernel Size)**: Filtrelerin boyutunu belirler (örneğin, 3x3, 5x5). Bu, evrişim işlemi sırasında girdiye uygulanan kayan pencerenin boyutudur.\n",
    "- **Adımlar (Strides)**: Filtrenin girdide ne kadar hareket edeceğini belirler. Örneğin, `strides=(2, 2)` ayarı, filtrenin her iki yönde de iki piksel atlayarak hareket edeceği anlamına gelir.\n",
    "- **Dolgu (Padding)**:\n",
    "  - `padding='same'`: Girdiye dolgu ekler ve çıktı ile girdinin aynı boyutta olmasını sağlar.\n",
    "  - `padding='valid'`: Dolgu eklenmez ve çıktı genellikle girdiden daha küçük olur.\n",
    "- **Aktivasyon Fonksiyonu (Activation Function)**: Çoğunlukla ReLU (Rectified Linear Unit) kullanılır. ReLU, çıktıyı ya sıfır ya da girdi kadar yapar.\n",
    "- **Girdi Şekli (Input Shape)**: İlk evrişim katmanında, girdi verisinin boyutlarını belirtir. Örneğin, 28x28 piksellik gri tonlamalı bir görüntü için `input_shape=(28, 28, 1)` olur.\n",
    "\n",
    "## Pooling Katmanı\n",
    "\n",
    "Pooling katmanı, özellik haritalarının boyutunu azaltmak için kullanılır, böylece ağın hesaplama yükü ve parametre sayısı azalır.\n",
    "\n",
    "- **Max Pooling**: Belirli bir pencere boyutundaki maksimum değeri alır ve diğer bilgileri atar.\n",
    "- **Average Pooling**: Pencere içindeki tüm değerlerin ortalamasını alır.\n",
    "\n",
    "## Flatten Katmanı\n",
    "\n",
    "Bu katman, çok boyutlu özellik haritalarını tek boyutlu bir vektöre dönüştürür ve tam bağlantılı katmanlara uygun hale getirir.\n",
    "\n",
    "## Tam Bağlantılı Katmanlar (Dense)\n",
    "\n",
    "Bu katmanlar, ağın önceki katmanlarından gelen tüm bilgileri alır ve analiz eder. Sonuç olarak sınıflandırma gibi görevlerde son kararı üretir.\n",
    "\n",
    "## Dropout\n",
    "\n",
    "Aşırı uyumu (overfitting) önlemek için kullanılan bir tekniktir. Eğitim sırasında rastgele seçilen nöronlar geçici olarak ağdan çıkarılır.\n",
    "\n",
    "## Model Özeti (summary())\n",
    "\n",
    "Modelin katmanlarını ve her katmandaki parametre sayısını özetler, modelin boyutunu ve karmaşıklığını anlamak için kullanılır.\n",
    "\n",
    "## Modelin Derlenmesi (Compile)\n",
    "\n",
    "Model eğitime başlamadan önce aşağıdaki adımlarla derlenir:\n",
    "- **Optimizasyon Algoritması (Optimizer)**: Modelin ağırlıklarını güncellemek için kullanılır.\n",
    "- **Kayıp Fonksiyonu (Loss Function)**: Modelin tahmin hatasını hesaplar.\n",
    "- **Metrikler (Metrics)**: Modelin performansını değerlendirmek için kullanılır.\n",
    "\n",
    "## Modelin Eğitimi (Training)\n",
    "\n",
    "- **Epoch Sayısı**: Eğitim veri setinin tamamının modele bir kez sunulma sayısıdır. Daha fazla epoch, daha iyi öğrenme sağlayabilir, ancak overfitting riskini de artırabilir.\n",
    "- **Batch Size**: Her adımda modele verilen örnek sayısıdır. Büyük batch size, daha hızlı eğitim sağlar ancak daha fazla bellek gerektirir.\n",
    "- **Steps Per Epoch**: Her epoch'ta modelin gerçekleştireceği adım sayısıdır. Bu adım, batch boyutuna göre belirlenir.\n"
   ]
  }
 ],
 "metadata": {
  "kernelspec": {
   "display_name": "Python 3 (ipykernel)",
   "language": "python",
   "name": "python3"
  },
  "language_info": {
   "codemirror_mode": {
    "name": "ipython",
    "version": 3
   },
   "file_extension": ".py",
   "mimetype": "text/x-python",
   "name": "python",
   "nbconvert_exporter": "python",
   "pygments_lexer": "ipython3",
   "version": "3.12.4"
  }
 },
 "nbformat": 4,
 "nbformat_minor": 5
}
